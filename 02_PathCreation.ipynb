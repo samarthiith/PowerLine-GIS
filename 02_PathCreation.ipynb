{
 "cells": [
  {
   "cell_type": "code",
   "execution_count": 1,
   "metadata": {},
   "outputs": [],
   "source": [
    "import gdal, osr\n",
    "import numpy as np\n",
    "from skimage.graph import route_through_array\n",
    "import pandas as pd\n",
    "import matplotlib.pyplot as plt\n",
    "from scipy import stats\n",
    "import os\n",
    "import math\n",
    "from osgeo import ogr\n",
    "import fiona"
   ]
  },
  {
   "cell_type": "markdown",
   "metadata": {},
   "source": [
    "# Functions for data processing"
   ]
  },
  {
   "cell_type": "code",
   "execution_count": 2,
   "metadata": {},
   "outputs": [],
   "source": [
    "def raster2array(rasterfn):\n",
    "    '''Converts raster to 2d array'''\n",
    "    #print('converting raster to array...')\n",
    "    raster = gdal.Open(rasterfn)\n",
    "    band = raster.GetRasterBand(1)\n",
    "    array = band.ReadAsArray()\n",
    "    return array\n",
    "\n",
    "\n",
    "\n",
    "    \n",
    "class RasterProp:\n",
    "    def __init__(self,\n",
    "                 rasterFile,\n",
    "                 sliceClass=None, slicing = False):\n",
    "        self.raster = gdal.Open(rasterFile)\n",
    "        self.geotransform = self.raster.GetGeoTransform()\n",
    "        self.projRef      = self.raster.GetProjectionRef()\n",
    "        self.originX = self.geotransform[0]\n",
    "        self.originY = self.geotransform[3] \n",
    "        self.pixelWidth = self.geotransform[1] \n",
    "        self.pixelHeight = self.geotransform[5]\n",
    "        \n",
    "        \n",
    "def coord2pixelOffset(rasProp,x,y):\n",
    "    print('coordinate to pixel offsetting...')\n",
    "    originX = rasProp.originX\n",
    "    originY = rasProp.originY\n",
    "    \n",
    "    pixelWidth = rasProp.pixelWidth \n",
    "    pixelHeight = rasProp.pixelHeight\n",
    "\n",
    "    xOffset = int((x - originX)/pixelWidth)\n",
    "    yOffset = int((y - originY)/pixelHeight)\n",
    "    return xOffset,yOffset\n",
    "\n",
    "\n",
    "def pixel2coord(geoTrans, x, y):\n",
    "    xoff, a, b, yoff, d, e = geoTrans\n",
    "\n",
    "    xp = a * x + b * y + a * 0.5 + b * 0.5 + xoff\n",
    "    yp = d * x + e * y + d * 0.5 + e * 0.5 + yoff\n",
    "    return(int(xp), int(yp))"
   ]
  },
  {
   "cell_type": "code",
   "execution_count": 4,
   "metadata": {},
   "outputs": [],
   "source": [
    "def array2raster(array, rasProp,newRasterfn):\n",
    "    print('converting array to raster...')\n",
    "    cols = array.shape[1]\n",
    "    rows = array.shape[0]\n",
    "    driver = gdal.GetDriverByName('GTiff')\n",
    "    outRaster = driver.Create(newRasterfn, \n",
    "                              cols, rows,\n",
    "                              bands=1, \n",
    "                              eType= gdal.GDT_Float32)\n",
    "\n",
    "    outRaster.SetGeoTransform((rasProp.originX, \n",
    "                               rasProp.pixelWidth, \n",
    "                               0, rasProp.originY, \n",
    "                               0, rasProp.pixelHeight))\n",
    "    \n",
    "    outband = outRaster.GetRasterBand(1)\n",
    "    outband.WriteArray(array)\n",
    "    outRasterSRS = osr.SpatialReference()\n",
    "    outRasterSRS.ImportFromWkt(rasProp.projRef)\n",
    "    outRaster.SetProjection(outRasterSRS.ExportToWkt())\n",
    "    outband.FlushCache()\n",
    "    "
   ]
  },
  {
   "cell_type": "code",
   "execution_count": 6,
   "metadata": {},
   "outputs": [],
   "source": [
    "def createTotalCostRaster(factorPathList, \n",
    "                          weightList, \n",
    "                          rasProp,\n",
    "                          rasterName, \n",
    "                          slicing=False, \n",
    "                          strPoint=None, \n",
    "                          endPoint=None):\n",
    "\n",
    "        costArray = maxMinScale(raster2array(factorPathList[0]))*weightList[0]\n",
    "        costArray[np.isnan(costArray)]=0\n",
    "        \n",
    "        for fpos in range(1,len(factorPathList)):\n",
    "            #print(factorNames[fpos])\n",
    "            factorArray = maxMinScale(raster2array(factorPathList[fpos]))*weightList[fpos]\n",
    "            factorArray[np.isnan(factorArray)]=0\n",
    "            #plt.imshow(factorArray)\n",
    "            costArray = np.add(costArray, factorArray)\n",
    "        costArray[np.isnan(costArray)]=0\n",
    "        plt.imshow(costArray)\n",
    "        plt.colorbar()\n",
    "        array2raster(costArray, rasProp, rasterName)\n",
    "        return costArray, rasProp\n",
    "            \n",
    "        np.place(costArray, costArray==nan,0)\n",
    "        array2raster(costArray, sliceRasProp, rasterName)\n",
    "        plt.imshow(costArray)\n",
    "        return costArray, sliceRasProp\n",
    "    \n",
    "    \n",
    "def maxMinScale(array):\n",
    "    return (array/abs(array.max()-array.min()))"
   ]
  },
  {
   "cell_type": "code",
   "execution_count": 7,
   "metadata": {},
   "outputs": [],
   "source": [
    "def createPath(rasProp, costSurfaceArray,\n",
    "               startCoord,stopCoord):\n",
    "    '''returns an array of the same shape as costSurfaceArray with\n",
    "    1 for path and 0 for other cells'''\n",
    "    print('creating path...')\n",
    "    # coordinates to array index\n",
    "    startCoordX = startCoord[0]\n",
    "    startCoordY = startCoord[1]\n",
    "    startIndexX,startIndexY = coord2pixelOffset(rasProp,\n",
    "                                                startCoordX,\n",
    "                                                startCoordY)\n",
    "\n",
    "    stopCoordX = stopCoord[0]\n",
    "    stopCoordY = stopCoord[1]\n",
    "    stopIndexX,stopIndexY = coord2pixelOffset(rasProp,\n",
    "                                              stopCoordX,stopCoordY)\n",
    "    # create path\n",
    "    indices, weight = route_through_array(costSurfaceArray, \n",
    "                                          (startIndexY,startIndexX), \n",
    "                                          (stopIndexY,stopIndexX),\n",
    "                                          geometric=True,\n",
    "                                          fully_connected=True)\n",
    "    \n",
    "    \n",
    "    indices = np.array(indices).T\n",
    "    path = np.zeros_like(costSurfaceArray)\n",
    "    path[indices[0], indices[1]] = 1\n",
    "    print('path created...')\n",
    "    return path"
   ]
  },
  {
   "cell_type": "code",
   "execution_count": 8,
   "metadata": {},
   "outputs": [],
   "source": [
    "def getStartEndCord(file):\n",
    "    '''For reading 'start' and 'end' coordindates from shape files - \n",
    "    used specifically for DC connection files'''\n",
    "    \n",
    "    shape = fiona.open(file)\n",
    "    first = shape.next()\n",
    "    strX, strY =first.get('properties').get('CoordX'), first.get('properties').get('CoordY')\n",
    "    second = shape.next()\n",
    "    endX, endY =second.get('properties').get('CoordX'), second.get('properties').get('CoordY')\n",
    "    #return first\n",
    "    return ((strX,strY) ,(endX,endY))\n"
   ]
  },
  {
   "cell_type": "markdown",
   "metadata": {},
   "source": [
    "reading Dimension rasters and converting to arrays\n",
    "\n",
    "exogenously including city and sea area to give high weights to them"
   ]
  },
  {
   "cell_type": "code",
   "execution_count": 9,
   "metadata": {},
   "outputs": [
    {
     "name": "stderr",
     "output_type": "stream",
     "text": [
      "/Users/samarth/miniconda3/envs/gis/lib/python3.7/site-packages/ipykernel_launcher.py:13: RuntimeWarning: overflow encountered in multiply\n",
      "  del sys.path[0]\n"
     ]
    }
   ],
   "source": [
    "ecoPath = os.path.abspath('01_Data500/fac_eco_onlySlope.tif')\n",
    "envPath = os.path.abspath('01_Data500/fac_env.tif')\n",
    "pubPath = os.path.abspath('01_Data500/fac_pub.tif')\n",
    "infPath = os.path.abspath('01_Data500/fac_inf.tif')\n",
    "citPath = os.path.abspath('01_Data500/city.tif')\n",
    "seaPath = os.path.abspath('01_Data500/sea_coast.tif')\n",
    "\n",
    "ecoFac = raster2array(ecoPath)\n",
    "envFac = raster2array(envPath)\n",
    "pubFac = raster2array(pubPath)\n",
    "infFac = raster2array(infPath)\n",
    "citAre = raster2array(citPath)\n",
    "seaAre = raster2array(seaPath)*100\n"
   ]
  },
  {
   "cell_type": "code",
   "execution_count": 10,
   "metadata": {},
   "outputs": [],
   "source": [
    "dcProjects = os.path.abspath('02_DC_Project_DE/')\n",
    "dc5Path = str(dcProjects+'/DC_5.shp')"
   ]
  },
  {
   "cell_type": "code",
   "execution_count": 9,
   "metadata": {},
   "outputs": [],
   "source": [
    "dcNorthProjects = os.path.abspath('03_DC_Project_North/')\n",
    "dcNorPath = str(dcNorthProjects+'/DC_N.shp')"
   ]
  },
  {
   "cell_type": "code",
   "execution_count": 65,
   "metadata": {},
   "outputs": [
    {
     "data": {
      "text/plain": [
       "'/Users/samarth/Desktop/Work/23_GIS_Final/03_DC_Project_North/DC_N.shp'"
      ]
     },
     "execution_count": 65,
     "metadata": {},
     "output_type": "execute_result"
    }
   ],
   "source": [
    "dcNorPath"
   ]
  },
  {
   "cell_type": "markdown",
   "metadata": {},
   "source": [
    "## Path Creation"
   ]
  },
  {
   "cell_type": "markdown",
   "metadata": {},
   "source": [
    "### Individual Paths"
   ]
  },
  {
   "cell_type": "markdown",
   "metadata": {},
   "source": [
    "Saving full raster for visualization"
   ]
  },
  {
   "cell_type": "code",
   "execution_count": 67,
   "metadata": {},
   "outputs": [
    {
     "name": "stderr",
     "output_type": "stream",
     "text": [
      "/Users/samarth/miniconda3/envs/gis/lib/python3.7/site-packages/ipykernel_launcher.py:6: DeprecationWarning: Collection.__next__() is buggy and will be removed in Fiona 2.0. Switch to `next(iter(collection))`.\n",
      "  \n",
      "/Users/samarth/miniconda3/envs/gis/lib/python3.7/site-packages/ipykernel_launcher.py:8: DeprecationWarning: Collection.__next__() is buggy and will be removed in Fiona 2.0. Switch to `next(iter(collection))`.\n",
      "  \n"
     ]
    },
    {
     "name": "stdout",
     "output_type": "stream",
     "text": [
      "creating path...\n",
      "coordinate to pixel offsetting...\n",
      "coordinate to pixel offsetting...\n",
      "path created...\n",
      "converting array to raster...\n"
     ]
    }
   ],
   "source": [
    "# environment\n",
    "envEdgeCost = (8/10)*envFac + \\\n",
    "              (1/10)*pubFac + (1/10)*infFac + citAre + seaAre\n",
    "\n",
    "envLine = createPath(RasterProp(envPath),\n",
    "                    costSurfaceArray = envEdgeCost,\n",
    "                    startCoord= getStartEndCord(dcNorPath)[0],\n",
    "                    stopCoord= getStartEndCord(dcNorPath)[1])\n",
    "\n",
    "array2raster(envLine, rasProp=RasterProp(envPath),\n",
    "            newRasterfn = os.path.abspath('03_DC_Project_North/02_paths/envLine.tif'))"
   ]
  },
  {
   "cell_type": "code",
   "execution_count": 68,
   "metadata": {},
   "outputs": [
    {
     "name": "stderr",
     "output_type": "stream",
     "text": [
      "/Users/samarth/miniconda3/envs/gis/lib/python3.7/site-packages/ipykernel_launcher.py:6: DeprecationWarning: Collection.__next__() is buggy and will be removed in Fiona 2.0. Switch to `next(iter(collection))`.\n",
      "  \n",
      "/Users/samarth/miniconda3/envs/gis/lib/python3.7/site-packages/ipykernel_launcher.py:8: DeprecationWarning: Collection.__next__() is buggy and will be removed in Fiona 2.0. Switch to `next(iter(collection))`.\n",
      "  \n"
     ]
    },
    {
     "name": "stdout",
     "output_type": "stream",
     "text": [
      "creating path...\n",
      "coordinate to pixel offsetting...\n",
      "coordinate to pixel offsetting...\n",
      "path created...\n",
      "converting array to raster...\n"
     ]
    }
   ],
   "source": [
    "# Acceptance line\n",
    "pubEdgeCost = (1/10)*envFac + \\\n",
    "              (8/10)*pubFac + (1/10)*infFac + citAre + seaAre\n",
    "\n",
    "pubLine = createPath(RasterProp(pubPath),\n",
    "                    costSurfaceArray = pubEdgeCost,\n",
    "                    startCoord= getStartEndCord(dcNorPath)[0],\n",
    "                    stopCoord= getStartEndCord(dcNorPath)[1])\n",
    "\n",
    "array2raster(pubLine, rasProp=RasterProp(pubPath),\n",
    "            newRasterfn = os.path.abspath('03_DC_Project_North/02_paths/pubLine.tif'))"
   ]
  },
  {
   "cell_type": "code",
   "execution_count": 69,
   "metadata": {},
   "outputs": [
    {
     "name": "stderr",
     "output_type": "stream",
     "text": [
      "/Users/samarth/miniconda3/envs/gis/lib/python3.7/site-packages/ipykernel_launcher.py:6: DeprecationWarning: Collection.__next__() is buggy and will be removed in Fiona 2.0. Switch to `next(iter(collection))`.\n",
      "  \n",
      "/Users/samarth/miniconda3/envs/gis/lib/python3.7/site-packages/ipykernel_launcher.py:8: DeprecationWarning: Collection.__next__() is buggy and will be removed in Fiona 2.0. Switch to `next(iter(collection))`.\n",
      "  \n"
     ]
    },
    {
     "name": "stdout",
     "output_type": "stream",
     "text": [
      "creating path...\n",
      "coordinate to pixel offsetting...\n",
      "coordinate to pixel offsetting...\n",
      "path created...\n",
      "converting array to raster...\n"
     ]
    }
   ],
   "source": [
    "# Infrastructure line\n",
    "infEdgeCost = (1/10)*envFac + \\\n",
    "              (1/10)*pubFac + (8/10)*infFac + citAre + seaAre\n",
    "\n",
    "infLine = createPath(RasterProp(infPath),\n",
    "                    costSurfaceArray = infEdgeCost,\n",
    "                    startCoord= getStartEndCord(dcNorPath)[0],\n",
    "                    stopCoord= getStartEndCord(dcNorPath)[1])\n",
    "\n",
    "array2raster(infLine, rasProp=RasterProp(infPath),\n",
    "            newRasterfn = os.path.abspath('03_DC_Project_North/02_paths/infLine.tif'))"
   ]
  },
  {
   "cell_type": "code",
   "execution_count": 24,
   "metadata": {},
   "outputs": [
    {
     "name": "stderr",
     "output_type": "stream",
     "text": [
      "/Users/samarth/miniconda3/envs/gis/lib/python3.7/site-packages/ipykernel_launcher.py:6: DeprecationWarning: Collection.__next__() is buggy and will be removed in Fiona 2.0. Switch to `next(iter(collection))`.\n",
      "  \n",
      "/Users/samarth/miniconda3/envs/gis/lib/python3.7/site-packages/ipykernel_launcher.py:8: DeprecationWarning: Collection.__next__() is buggy and will be removed in Fiona 2.0. Switch to `next(iter(collection))`.\n",
      "  \n"
     ]
    },
    {
     "name": "stdout",
     "output_type": "stream",
     "text": [
      "creating path...\n",
      "coordinate to pixel offsetting...\n",
      "coordinate to pixel offsetting...\n",
      "path created...\n",
      "converting array to raster...\n"
     ]
    }
   ],
   "source": [
    "# All Equal line\n",
    "equEdgeCost = (1/3)*envFac + \\\n",
    "              (1/3)*pubFac + (1/3)*infFac + citAre + seaAre\n",
    "\n",
    "equLine = createPath(RasterProp(infPath),\n",
    "                     costSurfaceArray = equEdgeCost,\n",
    "                     startCoord = getStartEndCord(dc5Path)[0],\n",
    "                     stopCoord  = getStartEndCord(dc5Path)[1])\n",
    "\n",
    "array2raster(equLine, rasProp=RasterProp(infPath),\n",
    "            newRasterfn = os.path.abspath('02_DC_Project_DE/02_dc5_paths/equLine.tif'))"
   ]
  },
  {
   "cell_type": "markdown",
   "metadata": {},
   "source": [
    "## Lines A, B, C from graph"
   ]
  },
  {
   "cell_type": "markdown",
   "metadata": {},
   "source": [
    " Visualization of the lines unsed in description in the paper"
   ]
  },
  {
   "cell_type": "code",
   "execution_count": 11,
   "metadata": {},
   "outputs": [
    {
     "name": "stderr",
     "output_type": "stream",
     "text": [
      "/Users/samarth/miniconda3/envs/gis/lib/python3.7/site-packages/ipykernel_launcher.py:6: DeprecationWarning: Collection.__next__() is buggy and will be removed in Fiona 2.0. Switch to `next(iter(collection))`.\n",
      "  \n",
      "/Users/samarth/miniconda3/envs/gis/lib/python3.7/site-packages/ipykernel_launcher.py:8: DeprecationWarning: Collection.__next__() is buggy and will be removed in Fiona 2.0. Switch to `next(iter(collection))`.\n",
      "  \n"
     ]
    },
    {
     "name": "stdout",
     "output_type": "stream",
     "text": [
      "creating path...\n",
      "coordinate to pixel offsetting...\n",
      "coordinate to pixel offsetting...\n",
      "path created...\n",
      "creating path...\n",
      "coordinate to pixel offsetting...\n",
      "coordinate to pixel offsetting...\n",
      "path created...\n",
      "creating path...\n",
      "coordinate to pixel offsetting...\n",
      "coordinate to pixel offsetting...\n",
      "path created...\n",
      "converting array to raster...\n",
      "converting array to raster...\n",
      "converting array to raster...\n"
     ]
    }
   ],
   "source": [
    "pointACost = 0.25*envFac + \\\n",
    "             0.75*pubFac + 0*infFac + citAre + seaAre\n",
    "\n",
    "pointBCost = 0.50*envFac + \\\n",
    "             0.25*pubFac + 0.25*infFac + citAre + seaAre\n",
    "\n",
    "pointCCost = 0.0*envFac + \\\n",
    "             0.25*pubFac + 0.75*infFac + citAre + seaAre\n",
    "\n",
    "\n",
    "\n",
    "A_line = createPath(RasterProp(envPath),\n",
    "                    costSurfaceArray = pointACost,\n",
    "                    startCoord= getStartEndCord(dc5Path)[0],\n",
    "                    stopCoord= getStartEndCord(dc5Path)[1])\n",
    "\n",
    "B_line = createPath(RasterProp(envPath),\n",
    "                    costSurfaceArray = pointBCost,\n",
    "                    startCoord= getStartEndCord(dc5Path)[0],\n",
    "                    stopCoord= getStartEndCord(dc5Path)[1])\n",
    "\n",
    "C_line = createPath(RasterProp(envPath),\n",
    "                    costSurfaceArray = pointCCost,\n",
    "                    startCoord= getStartEndCord(dc5Path)[0],\n",
    "                    stopCoord= getStartEndCord(dc5Path)[1])\n",
    "\n",
    "\n",
    "array2raster(A_line, rasProp=RasterProp(envPath),\n",
    "            newRasterfn = os.path.abspath('02_DC_Project_DE/02_dc5_paths/line_A.tif'))\n",
    "\n",
    "array2raster(B_line, rasProp=RasterProp(envPath),\n",
    "            newRasterfn = os.path.abspath('02_DC_Project_DE/02_dc5_paths/line_B.tif'))\n",
    "\n",
    "array2raster(C_line, rasProp=RasterProp(envPath),\n",
    "            newRasterfn = os.path.abspath('02_DC_Project_DE/02_dc5_paths/line_C.tif'))"
   ]
  },
  {
   "cell_type": "markdown",
   "metadata": {},
   "source": [
    "### Sweep"
   ]
  },
  {
   "cell_type": "markdown",
   "metadata": {},
   "source": [
    "Sweep over different weighting factors for the different dimensions\n",
    "\n",
    "Path created and indexes of the paths saved as npy"
   ]
  },
  {
   "cell_type": "code",
   "execution_count": null,
   "metadata": {},
   "outputs": [],
   "source": [
    "## %%time\n",
    "allPaths = []\n",
    "strCoord = getStartEndCord(dcNorPath)[0]\n",
    "endCoord = getStartEndCord(dcNorPath)[1]\n",
    "for env in range(0,11,1):\n",
    "    for inf in range(0,11,1):\n",
    "        for pub in range(0,11,1):\n",
    "            if (env!=0 or inf!=0 or pub!=0):\n",
    "                if (env == inf==pub==0):\n",
    "                    continue;\n",
    "                c_env = env/(env+inf+pub)\n",
    "                c_inf = inf/(env+inf+pub)\n",
    "                c_pub = pub/(env+inf+pub)\n",
    "                print([env,inf,pub])\n",
    "                totalCost = c_env*envFac + c_pub*pubFac + \\\n",
    "                c_inf*infFac + citAre + seaAre\n",
    "                path = createPath(RasterProp(ecoPath), totalCost,\n",
    "                                  strCoord, \n",
    "                                  endCoord)\n",
    "                pathidx =np.nonzero(path)\n",
    "                fileName = str('eip_')+str(env)+str(inf)+str(pub)\n",
    "                comName = os.path.abspath('03_DC_Project_North/02_paths_2/'+fileName+'.npy')\n",
    "                np.save(comName,pathidx)"
   ]
  }
 ],
 "metadata": {
  "kernelspec": {
   "display_name": "Python 3",
   "language": "python",
   "name": "python3"
  },
  "language_info": {
   "codemirror_mode": {
    "name": "ipython",
    "version": 3
   },
   "file_extension": ".py",
   "mimetype": "text/x-python",
   "name": "python",
   "nbconvert_exporter": "python",
   "pygments_lexer": "ipython3",
   "version": "3.7.2"
  }
 },
 "nbformat": 4,
 "nbformat_minor": 2
}
